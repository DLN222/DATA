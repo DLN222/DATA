{
 "cells": [
  {
   "cell_type": "code",
   "execution_count": 1,
   "id": "98cf0fdb",
   "metadata": {},
   "outputs": [
    {
     "name": "stdout",
     "output_type": "stream",
     "text": [
      "\u001b[33mDEPRECATION: Loading egg at /Users/GSB/anaconda3/lib/python3.11/site-packages/dlib-19.24.99-py3.11-macosx-10.9-x86_64.egg is deprecated. pip 23.3 will enforce this behaviour change. A possible replacement is to use pip for package installation..\u001b[0m\u001b[33m\n",
      "\u001b[0mNote: you may need to restart the kernel to use updated packages.\n"
     ]
    }
   ],
   "source": [
    "pip install -q tabula-py"
   ]
  },
  {
   "cell_type": "code",
   "execution_count": 2,
   "id": "edc49997",
   "metadata": {},
   "outputs": [
    {
     "name": "stdout",
     "output_type": "stream",
     "text": [
      "\u001b[33mDEPRECATION: Loading egg at /Users/GSB/anaconda3/lib/python3.11/site-packages/dlib-19.24.99-py3.11-macosx-10.9-x86_64.egg is deprecated. pip 23.3 will enforce this behaviour change. A possible replacement is to use pip for package installation..\u001b[0m\u001b[33m\n",
      "\u001b[0mRequirement already satisfied: install-jdk in /Users/GSB/anaconda3/lib/python3.11/site-packages (1.1.0)\n",
      "Note: you may need to restart the kernel to use updated packages.\n"
     ]
    }
   ],
   "source": [
    "pip install install-jdk"
   ]
  },
  {
   "cell_type": "code",
   "execution_count": 3,
   "id": "c8b11cbf",
   "metadata": {},
   "outputs": [
    {
     "name": "stdout",
     "output_type": "stream",
     "text": [
      "Python version:\n",
      "    3.11.5 (main, Sep 11 2023, 08:19:27) [Clang 14.0.6 ]\n",
      "Java version:\n",
      "    java version \"23.0.1\" 2024-10-15\n",
      "Java(TM) SE Runtime Environment (build 23.0.1+11-39)\n",
      "Java HotSpot(TM) 64-Bit Server VM (build 23.0.1+11-39, mixed mode, sharing)\n",
      "tabula-py version: 2.10.0\n",
      "platform: macOS-10.16-x86_64-i386-64bit\n",
      "uname:\n",
      "    uname_result(system='Darwin', node='gabriellas-MacBook.local', release='24.3.0', version='Darwin Kernel Version 24.3.0: Thu Jan  2 20:24:22 PST 2025; root:xnu-11215.81.4~3/RELEASE_ARM64_T6041', machine='x86_64')\n",
      "linux_distribution: ('Darwin', '24.3.0', '')\n",
      "mac_ver: ('10.16', ('', '', ''), 'x86_64')\n"
     ]
    }
   ],
   "source": [
    "import pandas as pd ## pandas to work with data\n",
    "import glob\n",
    "import tabula\n",
    "tabula.environment_info() ## not need always ## check it's versioning\n"
   ]
  },
  {
   "cell_type": "code",
   "execution_count": 4,
   "id": "6e8b40d5",
   "metadata": {},
   "outputs": [],
   "source": [
    "# Suppress the specific FutureWarning\n",
    "import warnings\n",
    "\n",
    "\n",
    "warnings.filterwarnings(\"ignore\", category=FutureWarning, message=\".*errors='ignore' is deprecated.*\")"
   ]
  },
  {
   "cell_type": "code",
   "execution_count": 8,
   "id": "428a8a04",
   "metadata": {},
   "outputs": [
    {
     "name": "stdout",
     "output_type": "stream",
     "text": [
      "\u001b[34m==>\u001b[0m \u001b[1mAuto-updating Homebrew...\u001b[0m\n",
      "Adjust how often this is run with HOMEBREW_AUTO_UPDATE_SECS or disable with\n",
      "HOMEBREW_NO_AUTO_UPDATE. Hide these hints with HOMEBREW_NO_ENV_HINTS (see `man brew`).\n",
      "\u001b[34m==>\u001b[0m \u001b[1mDownloading https://ghcr.io/v2/homebrew/portable-ruby/portable-ruby/blobs/sha256:4ffc8607e08e9bd536f1df71643b2ecb4cea1a15be9226f297008bc34d0bc8e2\u001b[0m\n",
      "######################################################################### 100.0%                            51.6%\n",
      "\u001b[34m==>\u001b[0m \u001b[1mPouring portable-ruby-3.3.7.el_capitan.bottle.tar.gz\u001b[0m\n",
      "\u001b[33mWarning:\u001b[0m tesseract 5.5.0 is already installed and up-to-date.\n",
      "To reinstall 5.5.0, run:\n",
      "  brew reinstall tesseract\n"
     ]
    }
   ],
   "source": [
    "!brew install tesseract"
   ]
  },
  {
   "cell_type": "code",
   "execution_count": 10,
   "id": "f9d93802",
   "metadata": {},
   "outputs": [
    {
     "name": "stdout",
     "output_type": "stream",
     "text": [
      "\u001b[33mDEPRECATION: Loading egg at /Users/GSB/anaconda3/lib/python3.11/site-packages/dlib-19.24.99-py3.11-macosx-10.9-x86_64.egg is deprecated. pip 23.3 will enforce this behaviour change. A possible replacement is to use pip for package installation..\u001b[0m\u001b[33m\r\n",
      "\u001b[0mRequirement already satisfied: mangoCR in /Users/GSB/anaconda3/lib/python3.11/site-packages (0.1.4)\r\n",
      "Requirement already satisfied: pymupdf in /Users/GSB/anaconda3/lib/python3.11/site-packages (from mangoCR) (1.24.14)\r\n",
      "Requirement already satisfied: pytesseract in /Users/GSB/anaconda3/lib/python3.11/site-packages (from mangoCR) (0.3.13)\r\n",
      "Requirement already satisfied: Pillow in /Users/GSB/anaconda3/lib/python3.11/site-packages (from mangoCR) (9.4.0)\r\n",
      "Requirement already satisfied: packaging>=21.3 in /Users/GSB/anaconda3/lib/python3.11/site-packages (from pytesseract->mangoCR) (23.1)\r\n"
     ]
    }
   ],
   "source": [
    "!pip install mangoCR"
   ]
  },
  {
   "cell_type": "code",
   "execution_count": 11,
   "id": "773e433f",
   "metadata": {},
   "outputs": [],
   "source": [
    "from mangoCR import pdf2image_ocr"
   ]
  },
  {
   "cell_type": "code",
   "execution_count": 12,
   "id": "7282e75e",
   "metadata": {},
   "outputs": [
    {
     "name": "stdout",
     "output_type": "stream",
     "text": [
      "Processing PDF 1 of 1: Steven McEnaney, Ind, 70297-22 COURT APPEARANCES.pdf\n",
      "  - Processed page 1 of 2 in Steven McEnaney, Ind, 70297-22 COURT APPEARANCES.pdf\n",
      "  - Processed page 2 of 2 in Steven McEnaney, Ind, 70297-22 COURT APPEARANCES.pdf\n",
      "Finished processing Steven McEnaney, Ind, 70297-22 COURT APPEARANCES.pdf\n",
      "\n",
      "OCR results have been saved to SM_court_schedule.md\n"
     ]
    }
   ],
   "source": [
    "pdf_path = 'Steven McEnaney, Ind, 70297-22 COURT APPEARANCES.pdf'\n",
    "pdf2image_ocr(pdf_path,\"SM_court_schedule.md\")"
   ]
  },
  {
   "cell_type": "code",
   "execution_count": 14,
   "id": "5aaa8b90",
   "metadata": {},
   "outputs": [
    {
     "name": "stdout",
     "output_type": "stream",
     "text": [
      "List of available languages in \"/usr/local/share/tessdata/\" (3):\r\n",
      "eng\r\n",
      "osd\r\n",
      "snum\r\n"
     ]
    }
   ],
   "source": [
    "!tesseract --list-langs\n"
   ]
  },
  {
   "cell_type": "code",
   "execution_count": 23,
   "id": "42739a39",
   "metadata": {},
   "outputs": [],
   "source": [
    "df1 = \"SM_court_schedule.md\""
   ]
  },
  {
   "cell_type": "code",
   "execution_count": 24,
   "id": "ea11d562",
   "metadata": {},
   "outputs": [
    {
     "ename": "AttributeError",
     "evalue": "'str' object has no attribute 'to_csv'",
     "output_type": "error",
     "traceback": [
      "\u001b[0;31m---------------------------------------------------------------------------\u001b[0m",
      "\u001b[0;31mAttributeError\u001b[0m                            Traceback (most recent call last)",
      "Cell \u001b[0;32mIn[24], line 2\u001b[0m\n\u001b[1;32m      1\u001b[0m \u001b[38;5;66;03m## Export and download as CSV file\u001b[39;00m\n\u001b[0;32m----> 2\u001b[0m df1\u001b[38;5;241m.\u001b[39mto_csv(\u001b[38;5;124m\"\u001b[39m\u001b[38;5;124mSM_court_schedule.csv\u001b[39m\u001b[38;5;124m\"\u001b[39m, encoding \u001b[38;5;241m=\u001b[39m \u001b[38;5;124m\"\u001b[39m\u001b[38;5;124mUTF-8\u001b[39m\u001b[38;5;124m\"\u001b[39m, index \u001b[38;5;241m=\u001b[39m \u001b[38;5;28;01mFalse\u001b[39;00m)\n",
      "\u001b[0;31mAttributeError\u001b[0m: 'str' object has no attribute 'to_csv'"
     ]
    }
   ],
   "source": [
    "## Export and download as CSV file\n",
    "df1.to_csv(\"SM_court_schedule.csv\", encoding = \"UTF-8\", index = False)"
   ]
  },
  {
   "cell_type": "code",
   "execution_count": null,
   "id": "9ee72b2e",
   "metadata": {},
   "outputs": [],
   "source": []
  },
  {
   "cell_type": "code",
   "execution_count": null,
   "id": "5b4ae49b",
   "metadata": {},
   "outputs": [],
   "source": []
  }
 ],
 "metadata": {
  "kernelspec": {
   "display_name": "Python 3 (ipykernel)",
   "language": "python",
   "name": "python3"
  },
  "language_info": {
   "codemirror_mode": {
    "name": "ipython",
    "version": 3
   },
   "file_extension": ".py",
   "mimetype": "text/x-python",
   "name": "python",
   "nbconvert_exporter": "python",
   "pygments_lexer": "ipython3",
   "version": "3.11.5"
  }
 },
 "nbformat": 4,
 "nbformat_minor": 5
}
